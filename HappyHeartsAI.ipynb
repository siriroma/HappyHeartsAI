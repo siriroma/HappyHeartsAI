{
 "cells": [
  {
   "cell_type": "code",
   "execution_count": 36,
   "metadata": {},
   "outputs": [
    {
     "name": "stdout",
     "output_type": "stream",
     "text": [
      "Got 3 neighbors!\n",
      "There is a great chance that you might be diagnosed with heart disease when you are 58 years old.\n"
     ]
    }
   ],
   "source": [
    "from sklearn.neighbors import NearestNeighbors\n",
    "import statistics\n",
    "import pandas as pd\n",
    "import numpy as np\n",
    "tdata = pd.read_csv(\"INTEGRATEDHEART.csv\",header=None,na_values=[-9])\n",
    "new_data = tdata[[2,3,8,9,11,15,16,18,31,37,39,40,43,50,57]].copy()\n",
    "new_data.columns = ['age', 'sex', 'cp', 'trestbps', 'chol', 'fbs', 'diabetes', 'restecg', \n",
    "                    'thalach', 'exang', 'oldpeak', 'slope', 'ca', 'thal', 'target' ]\n",
    "\n",
    "new_data = new_data.replace('NaN', np.nan)\n",
    "new_data = new_data.dropna(axis=0)\n",
    "\n",
    "x = new_data[[c for c in new_data.columns if c != 'target']]\n",
    "\n",
    "neigh = NearestNeighbors(n_neighbors=2, metric = 'jaccard')\n",
    "neigh.fit(x) \n",
    "\n",
    "\n",
    "neigh = NearestNeighbors(n_neighbors=2, metric = 'jaccard')\n",
    "neigh.fit(x) \n",
    "\n",
    "new_data.index = range(1, 24)\n",
    "\n",
    "search_space = 2\n",
    "termination_length = 2\n",
    "total_ages = []\n",
    "while len(total_ages) != termination_length:\n",
    "    search_space += 1\n",
    "    flattened = neigh.kneighbors(x.sample().values, n_neighbors=2, return_distance=False).ravel()\n",
    "    flattened = flattened.tolist()\n",
    "    \n",
    "    for index in flattened:\n",
    "        age = new_data.at[index,'age']\n",
    "        is_diseased = [target for target in new_data if target == 1 or 2 or 3 or 4]\n",
    "        is_diabetic = bool(new_data['diabetes'][index])\n",
    "        if is_diseased and is_diabetic:\n",
    "            total_ages.append(age)          \n",
    "print('Got {} neighbors!'.format(search_space))    \n",
    "average = np.mean(total_ages)\n",
    "average = int(round(average))\n",
    "print(f'There is a great chance that you might be diagnosed with heart disease when you are {average} years old.')\n",
    "    \n"
   ]
  },
  {
   "cell_type": "code",
   "execution_count": null,
   "metadata": {},
   "outputs": [],
   "source": []
  }
 ],
 "metadata": {
  "kernelspec": {
   "display_name": "Python 3",
   "language": "python",
   "name": "python3"
  },
  "language_info": {
   "codemirror_mode": {
    "name": "ipython",
    "version": 3
   },
   "file_extension": ".py",
   "mimetype": "text/x-python",
   "name": "python",
   "nbconvert_exporter": "python",
   "pygments_lexer": "ipython3",
   "version": "3.7.3"
  }
 },
 "nbformat": 4,
 "nbformat_minor": 2
}
